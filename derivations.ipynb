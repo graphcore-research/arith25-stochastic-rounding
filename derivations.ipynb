{
 "cells": [
  {
   "cell_type": "markdown",
   "metadata": {},
   "source": [
    "# Derivations of biases using sympy"
   ]
  },
  {
   "cell_type": "markdown",
   "metadata": {},
   "source": [
    "This notebook presents some of the paper's derivations using sympy, which may help readers to confirm the derivations."
   ]
  },
  {
   "cell_type": "code",
   "execution_count": null,
   "metadata": {},
   "outputs": [
    {
     "name": "stdout",
     "output_type": "stream",
     "text": [
      "The autoreload extension is already loaded. To reload it, use:\n",
      "  %reload_ext autoreload\n",
      "Sum(Heaviside(-i**2 + i + j),\n",
      "    (i, j, Heaviside(-i**2 + i + j)),\n",
      "    (j, 0, Heaviside(-i**2 + i + j)))\n"
     ]
    }
   ],
   "source": [
    "# Copyright (c) 2025 Graphcore Ltd. All rights reserved.\n",
    "%load_ext autoreload\n",
    "%autoreload 2\n",
    "from sympy import (\n",
    "    Rational,\n",
    "    symbols,\n",
    "    summation,\n",
    "    simplify,\n",
    "    expand,\n",
    "    Sum,\n",
    "    Integral,\n",
    "    Piecewise,\n",
    "    Heaviside\n",
    ")\n",
    "import sympy\n",
    "\n",
    "_1 = sympy.Wild(\"_1\")\n",
    "_2 = sympy.Wild(\"_2\")\n",
    "_3 = sympy.Wild(\"_3\")\n",
    "\n",
    "\n",
    "# Write eq(\"a\",b) to display \"a = b\"\n",
    "def eq(nm : str, expr):\n",
    "    return sympy.Eq(sympy.Symbol(nm), expr)\n",
    "\n",
    "# Sympy constants\n",
    "one = Rational(1)\n",
    "half = Rational(1,2)\n",
    "\n",
    "# Sympy pretty printing: Prettier than srepr, more truthful than repr\n",
    "import pprint\n",
    "\n",
    "def _pprint_expr(self, x, stream, indent, allowance, context, level):\n",
    "    \"\"\"\n",
    "    Modified from pprint dict https://github.com/python/cpython/blob/3.7/Lib/pprint.py#L194\n",
    "    \"\"\"\n",
    "    if not x.args:\n",
    "        stream.write(repr(x))\n",
    "    else:\n",
    "      fnm = x.func.__name__\n",
    "      stream.write(fnm + \"(\")\n",
    "      self._format_items(x.args, stream, indent + len(fnm), allowance + 1, context, level)\n",
    "      stream.write(\")\")\n",
    "pprint.PrettyPrinter._dispatch[sympy.Expr.__repr__] = _pprint_expr\n",
    "\n",
    "# Example (small width to see the indentation)\n",
    "from  pprint import pp\n",
    "x,i,j = symbols('x i j')\n",
    "ex = Heaviside(i + j - i**2)\n",
    "ex = Sum(Heaviside(i + j - i**2), (i, j, ex), (j, 0, ex))\n",
    "pp(ex, width=40)"
   ]
  },
  {
   "cell_type": "markdown",
   "metadata": {},
   "source": [
    "# Case 1: Infinite precision inputs, limited-precision random variables"
   ]
  },
  {
   "cell_type": "markdown",
   "metadata": {},
   "source": [
    "## Computing the bias: SRFF\n",
    "\n",
    "Let $N$ be the number of SR bits, and $0 \\le n \\le 2^N$ the supplied bits.\n",
    "\n",
    "The bias averaged over the range $x\\in(0,1)$, corresponding to the range between two successive floats is\n",
    "$$\\begin{darray}{rcl}\n",
    "\\sum_{n=0}^{2^N-1} \\int_0^1 \\mathbb1[RoundAway_{SRFF}(x,n)] \\mathrm dx - \\frac12& = &\n",
    "\\sum_{n=0}^{2^N-1} \\int_0^1 \\mathbb1[x + n\\times2^{-N} \\ge 1] \\mathrm dx - \\frac12\\\\\n",
    "& = & \\sum_{n=0}^{2^N-1} \\int_{1 - n\\times2^{-N}}^1 \\mathrm dx - \\frac12\\\\\n",
    "& = & -2^{-(N+1)}\n",
    "\\end{darray}$$\n",
    "which we can show in sympy..."
   ]
  },
  {
   "cell_type": "code",
   "execution_count": 2,
   "metadata": {},
   "outputs": [
    {
     "ename": "KeyboardInterrupt",
     "evalue": "",
     "output_type": "error",
     "traceback": [
      "\u001b[0;31m---------------------------------------------------------------------------\u001b[0m",
      "\u001b[0;31mKeyboardInterrupt\u001b[0m                         Traceback (most recent call last)",
      "Cell \u001b[0;32mIn[2], line 8\u001b[0m\n\u001b[1;32m      6\u001b[0m bias_n \u001b[38;5;241m=\u001b[39m Integral(\u001b[38;5;241m1\u001b[39m, (x, \u001b[38;5;241m1\u001b[39m \u001b[38;5;241m-\u001b[39m n \u001b[38;5;241m*\u001b[39m \u001b[38;5;241m2\u001b[39m \u001b[38;5;241m*\u001b[39m\u001b[38;5;241m*\u001b[39m (\u001b[38;5;241m-\u001b[39mN), \u001b[38;5;241m1\u001b[39m))\n\u001b[1;32m      7\u001b[0m bias \u001b[38;5;241m=\u001b[39m \u001b[38;5;241m2\u001b[39m\u001b[38;5;241m*\u001b[39m\u001b[38;5;241m*\u001b[39m\u001b[38;5;241m-\u001b[39mN \u001b[38;5;241m*\u001b[39m summation(bias_n, (n, \u001b[38;5;241m0\u001b[39m, \u001b[38;5;241m2\u001b[39m\u001b[38;5;241m*\u001b[39m\u001b[38;5;241m*\u001b[39mN \u001b[38;5;241m-\u001b[39m \u001b[38;5;241m1\u001b[39m)) \u001b[38;5;241m-\u001b[39m half\n\u001b[0;32m----> 8\u001b[0m \u001b[43mdisplay\u001b[49m\u001b[43m(\u001b[49m\u001b[43meq\u001b[49m\u001b[43m(\u001b[49m\u001b[38;5;124;43m\"\u001b[39;49m\u001b[38;5;124;43mBias\u001b[39;49m\u001b[38;5;124;43m\"\u001b[39;49m\u001b[43m,\u001b[49m\u001b[43m \u001b[49m\u001b[43mbias\u001b[49m\u001b[43m)\u001b[49m\u001b[43m)\u001b[49m\n\u001b[1;32m      9\u001b[0m display(eq(\u001b[38;5;124m\"\u001b[39m\u001b[38;5;124m...\u001b[39m\u001b[38;5;124m\"\u001b[39m, simplify(simplify(expand(bias\u001b[38;5;241m.\u001b[39mdoit())))))\n\u001b[1;32m     11\u001b[0m \u001b[38;5;66;03m# Assert expected = computed\u001b[39;00m\n",
      "File \u001b[0;32m~/dev/f8/arith25-stochastic-rounding/.venv/lib/python3.10/site-packages/IPython/core/display_functions.py:298\u001b[0m, in \u001b[0;36mdisplay\u001b[0;34m(include, exclude, metadata, transient, display_id, raw, clear, *objs, **kwargs)\u001b[0m\n\u001b[1;32m    296\u001b[0m     publish_display_data(data\u001b[38;5;241m=\u001b[39mobj, metadata\u001b[38;5;241m=\u001b[39mmetadata, \u001b[38;5;241m*\u001b[39m\u001b[38;5;241m*\u001b[39mkwargs)\n\u001b[1;32m    297\u001b[0m \u001b[38;5;28;01melse\u001b[39;00m:\n\u001b[0;32m--> 298\u001b[0m     format_dict, md_dict \u001b[38;5;241m=\u001b[39m \u001b[38;5;28;43mformat\u001b[39;49m\u001b[43m(\u001b[49m\u001b[43mobj\u001b[49m\u001b[43m,\u001b[49m\u001b[43m \u001b[49m\u001b[43minclude\u001b[49m\u001b[38;5;241;43m=\u001b[39;49m\u001b[43minclude\u001b[49m\u001b[43m,\u001b[49m\u001b[43m \u001b[49m\u001b[43mexclude\u001b[49m\u001b[38;5;241;43m=\u001b[39;49m\u001b[43mexclude\u001b[49m\u001b[43m)\u001b[49m\n\u001b[1;32m    299\u001b[0m     \u001b[38;5;28;01mif\u001b[39;00m \u001b[38;5;129;01mnot\u001b[39;00m format_dict:\n\u001b[1;32m    300\u001b[0m         \u001b[38;5;66;03m# nothing to display (e.g. _ipython_display_ took over)\u001b[39;00m\n\u001b[1;32m    301\u001b[0m         \u001b[38;5;28;01mcontinue\u001b[39;00m\n",
      "File \u001b[0;32m~/dev/f8/arith25-stochastic-rounding/.venv/lib/python3.10/site-packages/IPython/core/formatters.py:238\u001b[0m, in \u001b[0;36mDisplayFormatter.format\u001b[0;34m(self, obj, include, exclude)\u001b[0m\n\u001b[1;32m    236\u001b[0m md \u001b[38;5;241m=\u001b[39m \u001b[38;5;28;01mNone\u001b[39;00m\n\u001b[1;32m    237\u001b[0m \u001b[38;5;28;01mtry\u001b[39;00m:\n\u001b[0;32m--> 238\u001b[0m     data \u001b[38;5;241m=\u001b[39m \u001b[43mformatter\u001b[49m\u001b[43m(\u001b[49m\u001b[43mobj\u001b[49m\u001b[43m)\u001b[49m\n\u001b[1;32m    239\u001b[0m \u001b[38;5;28;01mexcept\u001b[39;00m:\n\u001b[1;32m    240\u001b[0m     \u001b[38;5;66;03m# FIXME: log the exception\u001b[39;00m\n\u001b[1;32m    241\u001b[0m     \u001b[38;5;28;01mraise\u001b[39;00m\n",
      "File \u001b[0;32m~/dev/f8/arith25-stochastic-rounding/.venv/lib/python3.10/site-packages/decorator.py:235\u001b[0m, in \u001b[0;36mdecorate.<locals>.fun\u001b[0;34m(*args, **kw)\u001b[0m\n\u001b[1;32m    233\u001b[0m \u001b[38;5;28;01mif\u001b[39;00m \u001b[38;5;129;01mnot\u001b[39;00m kwsyntax:\n\u001b[1;32m    234\u001b[0m     args, kw \u001b[38;5;241m=\u001b[39m fix(args, kw, sig)\n\u001b[0;32m--> 235\u001b[0m \u001b[38;5;28;01mreturn\u001b[39;00m \u001b[43mcaller\u001b[49m\u001b[43m(\u001b[49m\u001b[43mfunc\u001b[49m\u001b[43m,\u001b[49m\u001b[43m \u001b[49m\u001b[38;5;241;43m*\u001b[39;49m\u001b[43m(\u001b[49m\u001b[43mextras\u001b[49m\u001b[43m \u001b[49m\u001b[38;5;241;43m+\u001b[39;49m\u001b[43m \u001b[49m\u001b[43margs\u001b[49m\u001b[43m)\u001b[49m\u001b[43m,\u001b[49m\u001b[43m \u001b[49m\u001b[38;5;241;43m*\u001b[39;49m\u001b[38;5;241;43m*\u001b[39;49m\u001b[43mkw\u001b[49m\u001b[43m)\u001b[49m\n",
      "File \u001b[0;32m~/dev/f8/arith25-stochastic-rounding/.venv/lib/python3.10/site-packages/IPython/core/formatters.py:282\u001b[0m, in \u001b[0;36mcatch_format_error\u001b[0;34m(method, self, *args, **kwargs)\u001b[0m\n\u001b[1;32m    280\u001b[0m \u001b[38;5;250m\u001b[39m\u001b[38;5;124;03m\"\"\"show traceback on failed format call\"\"\"\u001b[39;00m\n\u001b[1;32m    281\u001b[0m \u001b[38;5;28;01mtry\u001b[39;00m:\n\u001b[0;32m--> 282\u001b[0m     r \u001b[38;5;241m=\u001b[39m \u001b[43mmethod\u001b[49m\u001b[43m(\u001b[49m\u001b[38;5;28;43mself\u001b[39;49m\u001b[43m,\u001b[49m\u001b[43m \u001b[49m\u001b[38;5;241;43m*\u001b[39;49m\u001b[43margs\u001b[49m\u001b[43m,\u001b[49m\u001b[43m \u001b[49m\u001b[38;5;241;43m*\u001b[39;49m\u001b[38;5;241;43m*\u001b[39;49m\u001b[43mkwargs\u001b[49m\u001b[43m)\u001b[49m\n\u001b[1;32m    283\u001b[0m \u001b[38;5;28;01mexcept\u001b[39;00m \u001b[38;5;167;01mNotImplementedError\u001b[39;00m:\n\u001b[1;32m    284\u001b[0m     \u001b[38;5;66;03m# don't warn on NotImplementedErrors\u001b[39;00m\n\u001b[1;32m    285\u001b[0m     \u001b[38;5;28;01mreturn\u001b[39;00m \u001b[38;5;28mself\u001b[39m\u001b[38;5;241m.\u001b[39m_check_return(\u001b[38;5;28;01mNone\u001b[39;00m, args[\u001b[38;5;241m0\u001b[39m])\n",
      "File \u001b[0;32m~/dev/f8/arith25-stochastic-rounding/.venv/lib/python3.10/site-packages/IPython/core/formatters.py:406\u001b[0m, in \u001b[0;36mBaseFormatter.__call__\u001b[0;34m(self, obj)\u001b[0m\n\u001b[1;32m    404\u001b[0m     method \u001b[38;5;241m=\u001b[39m get_real_method(obj, \u001b[38;5;28mself\u001b[39m\u001b[38;5;241m.\u001b[39mprint_method)\n\u001b[1;32m    405\u001b[0m     \u001b[38;5;28;01mif\u001b[39;00m method \u001b[38;5;129;01mis\u001b[39;00m \u001b[38;5;129;01mnot\u001b[39;00m \u001b[38;5;28;01mNone\u001b[39;00m:\n\u001b[0;32m--> 406\u001b[0m         \u001b[38;5;28;01mreturn\u001b[39;00m \u001b[43mmethod\u001b[49m\u001b[43m(\u001b[49m\u001b[43m)\u001b[49m\n\u001b[1;32m    407\u001b[0m     \u001b[38;5;28;01mreturn\u001b[39;00m \u001b[38;5;28;01mNone\u001b[39;00m\n\u001b[1;32m    408\u001b[0m \u001b[38;5;28;01melse\u001b[39;00m:\n",
      "File \u001b[0;32m~/dev/f8/arith25-stochastic-rounding/.venv/lib/python3.10/site-packages/sympy/core/_print_helpers.py:64\u001b[0m, in \u001b[0;36mPrintable._repr_latex_\u001b[0;34m(self)\u001b[0m\n\u001b[1;32m     55\u001b[0m \u001b[38;5;250m\u001b[39m\u001b[38;5;124;03m\"\"\"\u001b[39;00m\n\u001b[1;32m     56\u001b[0m \u001b[38;5;124;03mIPython/Jupyter LaTeX printing\u001b[39;00m\n\u001b[1;32m     57\u001b[0m \n\u001b[0;32m   (...)\u001b[0m\n\u001b[1;32m     61\u001b[0m \u001b[38;5;124;03mSymPy objects, like lists and dictionaries of expressions.\u001b[39;00m\n\u001b[1;32m     62\u001b[0m \u001b[38;5;124;03m\"\"\"\u001b[39;00m\n\u001b[1;32m     63\u001b[0m \u001b[38;5;28;01mfrom\u001b[39;00m\u001b[38;5;250m \u001b[39m\u001b[38;5;21;01msympy\u001b[39;00m\u001b[38;5;21;01m.\u001b[39;00m\u001b[38;5;21;01mprinting\u001b[39;00m\u001b[38;5;21;01m.\u001b[39;00m\u001b[38;5;21;01mlatex\u001b[39;00m\u001b[38;5;250m \u001b[39m\u001b[38;5;28;01mimport\u001b[39;00m latex\n\u001b[0;32m---> 64\u001b[0m s \u001b[38;5;241m=\u001b[39m \u001b[43mlatex\u001b[49m\u001b[43m(\u001b[49m\u001b[38;5;28;43mself\u001b[39;49m\u001b[43m,\u001b[49m\u001b[43m \u001b[49m\u001b[43mmode\u001b[49m\u001b[38;5;241;43m=\u001b[39;49m\u001b[38;5;124;43m'\u001b[39;49m\u001b[38;5;124;43mplain\u001b[39;49m\u001b[38;5;124;43m'\u001b[39;49m\u001b[43m)\u001b[49m\n\u001b[1;32m     65\u001b[0m \u001b[38;5;28;01mreturn\u001b[39;00m \u001b[38;5;124m\"\u001b[39m\u001b[38;5;124m$\u001b[39m\u001b[38;5;130;01m\\\\\u001b[39;00m\u001b[38;5;124mdisplaystyle \u001b[39m\u001b[38;5;132;01m%s\u001b[39;00m\u001b[38;5;124m$\u001b[39m\u001b[38;5;124m\"\u001b[39m \u001b[38;5;241m%\u001b[39m s\n",
      "File \u001b[0;32m~/dev/f8/arith25-stochastic-rounding/.venv/lib/python3.10/site-packages/sympy/printing/printer.py:372\u001b[0m, in \u001b[0;36m_PrintFunction.__call__\u001b[0;34m(self, *args, **kwargs)\u001b[0m\n\u001b[1;32m    371\u001b[0m \u001b[38;5;28;01mdef\u001b[39;00m\u001b[38;5;250m \u001b[39m\u001b[38;5;21m__call__\u001b[39m(\u001b[38;5;28mself\u001b[39m, \u001b[38;5;241m*\u001b[39margs, \u001b[38;5;241m*\u001b[39m\u001b[38;5;241m*\u001b[39mkwargs):\n\u001b[0;32m--> 372\u001b[0m     \u001b[38;5;28;01mreturn\u001b[39;00m \u001b[38;5;28;43mself\u001b[39;49m\u001b[38;5;241;43m.\u001b[39;49m\u001b[43m__wrapped__\u001b[49m\u001b[43m(\u001b[49m\u001b[38;5;241;43m*\u001b[39;49m\u001b[43margs\u001b[49m\u001b[43m,\u001b[49m\u001b[43m \u001b[49m\u001b[38;5;241;43m*\u001b[39;49m\u001b[38;5;241;43m*\u001b[39;49m\u001b[43mkwargs\u001b[49m\u001b[43m)\u001b[49m\n",
      "File \u001b[0;32m~/dev/f8/arith25-stochastic-rounding/.venv/lib/python3.10/site-packages/sympy/printing/latex.py:3179\u001b[0m, in \u001b[0;36mlatex\u001b[0;34m(expr, **settings)\u001b[0m\n\u001b[1;32m   2964\u001b[0m \u001b[38;5;129m@print_function\u001b[39m(LatexPrinter)\n\u001b[1;32m   2965\u001b[0m \u001b[38;5;28;01mdef\u001b[39;00m\u001b[38;5;250m \u001b[39m\u001b[38;5;21mlatex\u001b[39m(expr, \u001b[38;5;241m*\u001b[39m\u001b[38;5;241m*\u001b[39msettings):\n\u001b[1;32m   2966\u001b[0m \u001b[38;5;250m    \u001b[39m\u001b[38;5;124mr\u001b[39m\u001b[38;5;124;03m\"\"\"Convert the given expression to LaTeX string representation.\u001b[39;00m\n\u001b[1;32m   2967\u001b[0m \n\u001b[1;32m   2968\u001b[0m \u001b[38;5;124;03m    Parameters\u001b[39;00m\n\u001b[0;32m   (...)\u001b[0m\n\u001b[1;32m   3177\u001b[0m \n\u001b[1;32m   3178\u001b[0m \u001b[38;5;124;03m    \"\"\"\u001b[39;00m\n\u001b[0;32m-> 3179\u001b[0m     \u001b[38;5;28;01mreturn\u001b[39;00m \u001b[43mLatexPrinter\u001b[49m\u001b[43m(\u001b[49m\u001b[43msettings\u001b[49m\u001b[43m)\u001b[49m\u001b[38;5;241;43m.\u001b[39;49m\u001b[43mdoprint\u001b[49m\u001b[43m(\u001b[49m\u001b[43mexpr\u001b[49m\u001b[43m)\u001b[49m\n",
      "File \u001b[0;32m~/dev/f8/arith25-stochastic-rounding/.venv/lib/python3.10/site-packages/sympy/printing/latex.py:266\u001b[0m, in \u001b[0;36mLatexPrinter.doprint\u001b[0;34m(self, expr)\u001b[0m\n\u001b[1;32m    265\u001b[0m \u001b[38;5;28;01mdef\u001b[39;00m\u001b[38;5;250m \u001b[39m\u001b[38;5;21mdoprint\u001b[39m(\u001b[38;5;28mself\u001b[39m, expr) \u001b[38;5;241m-\u001b[39m\u001b[38;5;241m>\u001b[39m \u001b[38;5;28mstr\u001b[39m:\n\u001b[0;32m--> 266\u001b[0m     tex \u001b[38;5;241m=\u001b[39m \u001b[43mPrinter\u001b[49m\u001b[38;5;241;43m.\u001b[39;49m\u001b[43mdoprint\u001b[49m\u001b[43m(\u001b[49m\u001b[38;5;28;43mself\u001b[39;49m\u001b[43m,\u001b[49m\u001b[43m \u001b[49m\u001b[43mexpr\u001b[49m\u001b[43m)\u001b[49m\n\u001b[1;32m    268\u001b[0m     \u001b[38;5;28;01mif\u001b[39;00m \u001b[38;5;28mself\u001b[39m\u001b[38;5;241m.\u001b[39m_settings[\u001b[38;5;124m'\u001b[39m\u001b[38;5;124mmode\u001b[39m\u001b[38;5;124m'\u001b[39m] \u001b[38;5;241m==\u001b[39m \u001b[38;5;124m'\u001b[39m\u001b[38;5;124mplain\u001b[39m\u001b[38;5;124m'\u001b[39m:\n\u001b[1;32m    269\u001b[0m         \u001b[38;5;28;01mreturn\u001b[39;00m tex\n",
      "File \u001b[0;32m~/dev/f8/arith25-stochastic-rounding/.venv/lib/python3.10/site-packages/sympy/printing/printer.py:292\u001b[0m, in \u001b[0;36mPrinter.doprint\u001b[0;34m(self, expr)\u001b[0m\n\u001b[1;32m    290\u001b[0m \u001b[38;5;28;01mdef\u001b[39;00m\u001b[38;5;250m \u001b[39m\u001b[38;5;21mdoprint\u001b[39m(\u001b[38;5;28mself\u001b[39m, expr):\n\u001b[1;32m    291\u001b[0m \u001b[38;5;250m    \u001b[39m\u001b[38;5;124;03m\"\"\"Returns printer's representation for expr (as a string)\"\"\"\u001b[39;00m\n\u001b[0;32m--> 292\u001b[0m     \u001b[38;5;28;01mreturn\u001b[39;00m \u001b[38;5;28mself\u001b[39m\u001b[38;5;241m.\u001b[39m_str(\u001b[38;5;28;43mself\u001b[39;49m\u001b[38;5;241;43m.\u001b[39;49m\u001b[43m_print\u001b[49m\u001b[43m(\u001b[49m\u001b[43mexpr\u001b[49m\u001b[43m)\u001b[49m)\n",
      "File \u001b[0;32m~/dev/f8/arith25-stochastic-rounding/.venv/lib/python3.10/site-packages/sympy/printing/printer.py:331\u001b[0m, in \u001b[0;36mPrinter._print\u001b[0;34m(self, expr, **kwargs)\u001b[0m\n\u001b[1;32m    329\u001b[0m     printmethod \u001b[38;5;241m=\u001b[39m \u001b[38;5;28mgetattr\u001b[39m(\u001b[38;5;28mself\u001b[39m, printmethodname, \u001b[38;5;28;01mNone\u001b[39;00m)\n\u001b[1;32m    330\u001b[0m     \u001b[38;5;28;01mif\u001b[39;00m printmethod \u001b[38;5;129;01mis\u001b[39;00m \u001b[38;5;129;01mnot\u001b[39;00m \u001b[38;5;28;01mNone\u001b[39;00m:\n\u001b[0;32m--> 331\u001b[0m         \u001b[38;5;28;01mreturn\u001b[39;00m \u001b[43mprintmethod\u001b[49m\u001b[43m(\u001b[49m\u001b[43mexpr\u001b[49m\u001b[43m,\u001b[49m\u001b[43m \u001b[49m\u001b[38;5;241;43m*\u001b[39;49m\u001b[38;5;241;43m*\u001b[39;49m\u001b[43mkwargs\u001b[49m\u001b[43m)\u001b[49m\n\u001b[1;32m    332\u001b[0m \u001b[38;5;66;03m# Unknown object, fall back to the emptyPrinter.\u001b[39;00m\n\u001b[1;32m    333\u001b[0m \u001b[38;5;28;01mreturn\u001b[39;00m \u001b[38;5;28mself\u001b[39m\u001b[38;5;241m.\u001b[39memptyPrinter(expr)\n",
      "File \u001b[0;32m~/dev/f8/arith25-stochastic-rounding/.venv/lib/python3.10/site-packages/sympy/printing/latex.py:1673\u001b[0m, in \u001b[0;36mLatexPrinter._print_Relational\u001b[0;34m(self, expr)\u001b[0m\n\u001b[1;32m   1661\u001b[0m     lt \u001b[38;5;241m=\u001b[39m \u001b[38;5;124m\"\u001b[39m\u001b[38;5;124m<\u001b[39m\u001b[38;5;124m\"\u001b[39m\n\u001b[1;32m   1663\u001b[0m charmap \u001b[38;5;241m=\u001b[39m {\n\u001b[1;32m   1664\u001b[0m     \u001b[38;5;124m\"\u001b[39m\u001b[38;5;124m==\u001b[39m\u001b[38;5;124m\"\u001b[39m: \u001b[38;5;124m\"\u001b[39m\u001b[38;5;124m=\u001b[39m\u001b[38;5;124m\"\u001b[39m,\n\u001b[1;32m   1665\u001b[0m     \u001b[38;5;124m\"\u001b[39m\u001b[38;5;124m>\u001b[39m\u001b[38;5;124m\"\u001b[39m: gt,\n\u001b[0;32m   (...)\u001b[0m\n\u001b[1;32m   1669\u001b[0m     \u001b[38;5;124m\"\u001b[39m\u001b[38;5;124m!=\u001b[39m\u001b[38;5;124m\"\u001b[39m: \u001b[38;5;124mr\u001b[39m\u001b[38;5;124m\"\u001b[39m\u001b[38;5;124m\\\u001b[39m\u001b[38;5;124mneq\u001b[39m\u001b[38;5;124m\"\u001b[39m,\n\u001b[1;32m   1670\u001b[0m }\n\u001b[1;32m   1672\u001b[0m \u001b[38;5;28;01mreturn\u001b[39;00m \u001b[38;5;124m\"\u001b[39m\u001b[38;5;132;01m%s\u001b[39;00m\u001b[38;5;124m \u001b[39m\u001b[38;5;132;01m%s\u001b[39;00m\u001b[38;5;124m \u001b[39m\u001b[38;5;132;01m%s\u001b[39;00m\u001b[38;5;124m\"\u001b[39m \u001b[38;5;241m%\u001b[39m (\u001b[38;5;28mself\u001b[39m\u001b[38;5;241m.\u001b[39m_print(expr\u001b[38;5;241m.\u001b[39mlhs),\n\u001b[0;32m-> 1673\u001b[0m                      charmap[expr\u001b[38;5;241m.\u001b[39mrel_op], \u001b[38;5;28;43mself\u001b[39;49m\u001b[38;5;241;43m.\u001b[39;49m\u001b[43m_print\u001b[49m\u001b[43m(\u001b[49m\u001b[43mexpr\u001b[49m\u001b[38;5;241;43m.\u001b[39;49m\u001b[43mrhs\u001b[49m\u001b[43m)\u001b[49m)\n",
      "File \u001b[0;32m~/dev/f8/arith25-stochastic-rounding/.venv/lib/python3.10/site-packages/sympy/printing/printer.py:331\u001b[0m, in \u001b[0;36mPrinter._print\u001b[0;34m(self, expr, **kwargs)\u001b[0m\n\u001b[1;32m    329\u001b[0m     printmethod \u001b[38;5;241m=\u001b[39m \u001b[38;5;28mgetattr\u001b[39m(\u001b[38;5;28mself\u001b[39m, printmethodname, \u001b[38;5;28;01mNone\u001b[39;00m)\n\u001b[1;32m    330\u001b[0m     \u001b[38;5;28;01mif\u001b[39;00m printmethod \u001b[38;5;129;01mis\u001b[39;00m \u001b[38;5;129;01mnot\u001b[39;00m \u001b[38;5;28;01mNone\u001b[39;00m:\n\u001b[0;32m--> 331\u001b[0m         \u001b[38;5;28;01mreturn\u001b[39;00m \u001b[43mprintmethod\u001b[49m\u001b[43m(\u001b[49m\u001b[43mexpr\u001b[49m\u001b[43m,\u001b[49m\u001b[43m \u001b[49m\u001b[38;5;241;43m*\u001b[39;49m\u001b[38;5;241;43m*\u001b[39;49m\u001b[43mkwargs\u001b[49m\u001b[43m)\u001b[49m\n\u001b[1;32m    332\u001b[0m \u001b[38;5;66;03m# Unknown object, fall back to the emptyPrinter.\u001b[39;00m\n\u001b[1;32m    333\u001b[0m \u001b[38;5;28;01mreturn\u001b[39;00m \u001b[38;5;28mself\u001b[39m\u001b[38;5;241m.\u001b[39memptyPrinter(expr)\n",
      "File \u001b[0;32m~/dev/f8/arith25-stochastic-rounding/.venv/lib/python3.10/site-packages/sympy/printing/latex.py:401\u001b[0m, in \u001b[0;36mLatexPrinter._print_Add\u001b[0;34m(self, expr, order)\u001b[0m\n\u001b[1;32m    399\u001b[0m \u001b[38;5;28;01melse\u001b[39;00m:\n\u001b[1;32m    400\u001b[0m     tex \u001b[38;5;241m+\u001b[39m\u001b[38;5;241m=\u001b[39m \u001b[38;5;124m\"\u001b[39m\u001b[38;5;124m + \u001b[39m\u001b[38;5;124m\"\u001b[39m\n\u001b[0;32m--> 401\u001b[0m term_tex \u001b[38;5;241m=\u001b[39m \u001b[38;5;28;43mself\u001b[39;49m\u001b[38;5;241;43m.\u001b[39;49m\u001b[43m_print\u001b[49m\u001b[43m(\u001b[49m\u001b[43mterm\u001b[49m\u001b[43m)\u001b[49m\n\u001b[1;32m    402\u001b[0m \u001b[38;5;28;01mif\u001b[39;00m \u001b[38;5;28mself\u001b[39m\u001b[38;5;241m.\u001b[39m_needs_add_brackets(term):\n\u001b[1;32m    403\u001b[0m     term_tex \u001b[38;5;241m=\u001b[39m \u001b[38;5;124mr\u001b[39m\u001b[38;5;124m\"\u001b[39m\u001b[38;5;124m\\\u001b[39m\u001b[38;5;124mleft(\u001b[39m\u001b[38;5;132;01m%s\u001b[39;00m\u001b[38;5;124m\\\u001b[39m\u001b[38;5;124mright)\u001b[39m\u001b[38;5;124m\"\u001b[39m \u001b[38;5;241m%\u001b[39m term_tex\n",
      "File \u001b[0;32m~/dev/f8/arith25-stochastic-rounding/.venv/lib/python3.10/site-packages/sympy/printing/printer.py:331\u001b[0m, in \u001b[0;36mPrinter._print\u001b[0;34m(self, expr, **kwargs)\u001b[0m\n\u001b[1;32m    329\u001b[0m     printmethod \u001b[38;5;241m=\u001b[39m \u001b[38;5;28mgetattr\u001b[39m(\u001b[38;5;28mself\u001b[39m, printmethodname, \u001b[38;5;28;01mNone\u001b[39;00m)\n\u001b[1;32m    330\u001b[0m     \u001b[38;5;28;01mif\u001b[39;00m printmethod \u001b[38;5;129;01mis\u001b[39;00m \u001b[38;5;129;01mnot\u001b[39;00m \u001b[38;5;28;01mNone\u001b[39;00m:\n\u001b[0;32m--> 331\u001b[0m         \u001b[38;5;28;01mreturn\u001b[39;00m \u001b[43mprintmethod\u001b[49m\u001b[43m(\u001b[49m\u001b[43mexpr\u001b[49m\u001b[43m,\u001b[49m\u001b[43m \u001b[49m\u001b[38;5;241;43m*\u001b[39;49m\u001b[38;5;241;43m*\u001b[39;49m\u001b[43mkwargs\u001b[49m\u001b[43m)\u001b[49m\n\u001b[1;32m    332\u001b[0m \u001b[38;5;66;03m# Unknown object, fall back to the emptyPrinter.\u001b[39;00m\n\u001b[1;32m    333\u001b[0m \u001b[38;5;28;01mreturn\u001b[39;00m \u001b[38;5;28mself\u001b[39m\u001b[38;5;241m.\u001b[39memptyPrinter(expr)\n",
      "File \u001b[0;32m~/dev/f8/arith25-stochastic-rounding/.venv/lib/python3.10/site-packages/sympy/printing/latex.py:583\u001b[0m, in \u001b[0;36mLatexPrinter._print_Mul\u001b[0;34m(self, expr)\u001b[0m\n\u001b[1;32m    580\u001b[0m \u001b[38;5;28;01melse\u001b[39;00m:\n\u001b[1;32m    581\u001b[0m     tex \u001b[38;5;241m=\u001b[39m \u001b[38;5;124m\"\u001b[39m\u001b[38;5;124m\"\u001b[39m\n\u001b[0;32m--> 583\u001b[0m numer, denom \u001b[38;5;241m=\u001b[39m \u001b[43mfraction\u001b[49m\u001b[43m(\u001b[49m\u001b[43mexpr\u001b[49m\u001b[43m,\u001b[49m\u001b[43m \u001b[49m\u001b[43mexact\u001b[49m\u001b[38;5;241;43m=\u001b[39;49m\u001b[38;5;28;43;01mTrue\u001b[39;49;00m\u001b[43m)\u001b[49m\n\u001b[1;32m    585\u001b[0m \u001b[38;5;28;01mif\u001b[39;00m denom \u001b[38;5;129;01mis\u001b[39;00m S\u001b[38;5;241m.\u001b[39mOne \u001b[38;5;129;01mand\u001b[39;00m Pow(\u001b[38;5;241m1\u001b[39m, \u001b[38;5;241m-\u001b[39m\u001b[38;5;241m1\u001b[39m, evaluate\u001b[38;5;241m=\u001b[39m\u001b[38;5;28;01mFalse\u001b[39;00m) \u001b[38;5;129;01mnot\u001b[39;00m \u001b[38;5;129;01min\u001b[39;00m expr\u001b[38;5;241m.\u001b[39margs:\n\u001b[1;32m    586\u001b[0m     \u001b[38;5;66;03m# use the original expression here, since fraction() may have\u001b[39;00m\n\u001b[1;32m    587\u001b[0m     \u001b[38;5;66;03m# altered it when producing numer and denom\u001b[39;00m\n\u001b[1;32m    588\u001b[0m     tex \u001b[38;5;241m+\u001b[39m\u001b[38;5;241m=\u001b[39m convert(expr)\n",
      "File \u001b[0;32m~/dev/f8/arith25-stochastic-rounding/.venv/lib/python3.10/site-packages/sympy/simplify/radsimp.py:1110\u001b[0m, in \u001b[0;36mfraction\u001b[0;34m(expr, exact)\u001b[0m\n\u001b[1;32m   1108\u001b[0m     denom\u001b[38;5;241m.\u001b[39mappend(b)\n\u001b[1;32m   1109\u001b[0m \u001b[38;5;28;01melif\u001b[39;00m exact:\n\u001b[0;32m-> 1110\u001b[0m     \u001b[38;5;28;01mif\u001b[39;00m \u001b[43mex\u001b[49m\u001b[38;5;241;43m.\u001b[39;49m\u001b[43mis_constant\u001b[49m\u001b[43m(\u001b[49m\u001b[43m)\u001b[49m:\n\u001b[1;32m   1111\u001b[0m         denom\u001b[38;5;241m.\u001b[39mappend(Pow(b, \u001b[38;5;241m-\u001b[39mex))\n\u001b[1;32m   1112\u001b[0m     \u001b[38;5;28;01melse\u001b[39;00m:\n",
      "File \u001b[0;32m~/dev/f8/arith25-stochastic-rounding/.venv/lib/python3.10/site-packages/sympy/core/expr.py:634\u001b[0m, in \u001b[0;36mExpr.is_constant\u001b[0;34m(self, *wrt, **flags)\u001b[0m\n\u001b[1;32m    632\u001b[0m expr \u001b[38;5;241m=\u001b[39m \u001b[38;5;28mself\u001b[39m\n\u001b[1;32m    633\u001b[0m \u001b[38;5;28;01mif\u001b[39;00m simplify:\n\u001b[0;32m--> 634\u001b[0m     expr \u001b[38;5;241m=\u001b[39m \u001b[43mexpr\u001b[49m\u001b[38;5;241;43m.\u001b[39;49m\u001b[43msimplify\u001b[49m\u001b[43m(\u001b[49m\u001b[43m)\u001b[49m\n\u001b[1;32m    636\u001b[0m \u001b[38;5;66;03m# is_zero should be a quick assumptions check; it can be wrong for\u001b[39;00m\n\u001b[1;32m    637\u001b[0m \u001b[38;5;66;03m# numbers (see test_is_not_constant test), giving False when it\u001b[39;00m\n\u001b[1;32m    638\u001b[0m \u001b[38;5;66;03m# shouldn't, but hopefully it will never give True unless it is sure.\u001b[39;00m\n\u001b[1;32m    639\u001b[0m \u001b[38;5;28;01mif\u001b[39;00m expr\u001b[38;5;241m.\u001b[39mis_zero:\n",
      "File \u001b[0;32m~/dev/f8/arith25-stochastic-rounding/.venv/lib/python3.10/site-packages/sympy/core/basic.py:1936\u001b[0m, in \u001b[0;36mBasic.simplify\u001b[0;34m(self, **kwargs)\u001b[0m\n\u001b[1;32m   1934\u001b[0m \u001b[38;5;250m\u001b[39m\u001b[38;5;124;03m\"\"\"See the simplify function in sympy.simplify\"\"\"\u001b[39;00m\n\u001b[1;32m   1935\u001b[0m \u001b[38;5;28;01mfrom\u001b[39;00m\u001b[38;5;250m \u001b[39m\u001b[38;5;21;01msympy\u001b[39;00m\u001b[38;5;21;01m.\u001b[39;00m\u001b[38;5;21;01msimplify\u001b[39;00m\u001b[38;5;21;01m.\u001b[39;00m\u001b[38;5;21;01msimplify\u001b[39;00m\u001b[38;5;250m \u001b[39m\u001b[38;5;28;01mimport\u001b[39;00m simplify\n\u001b[0;32m-> 1936\u001b[0m \u001b[38;5;28;01mreturn\u001b[39;00m \u001b[43msimplify\u001b[49m\u001b[43m(\u001b[49m\u001b[38;5;28;43mself\u001b[39;49m\u001b[43m,\u001b[49m\u001b[43m \u001b[49m\u001b[38;5;241;43m*\u001b[39;49m\u001b[38;5;241;43m*\u001b[39;49m\u001b[43mkwargs\u001b[49m\u001b[43m)\u001b[49m\n",
      "File \u001b[0;32m~/dev/f8/arith25-stochastic-rounding/.venv/lib/python3.10/site-packages/sympy/simplify/simplify.py:719\u001b[0m, in \u001b[0;36msimplify\u001b[0;34m(expr, ratio, measure, rational, inverse, doit, **kwargs)\u001b[0m\n\u001b[1;32m    716\u001b[0m \u001b[38;5;28;01mif\u001b[39;00m expr\u001b[38;5;241m.\u001b[39mhas(Product):\n\u001b[1;32m    717\u001b[0m     expr \u001b[38;5;241m=\u001b[39m product_simplify(expr, \u001b[38;5;241m*\u001b[39m\u001b[38;5;241m*\u001b[39mkwargs)\n\u001b[0;32m--> 719\u001b[0m \u001b[38;5;28;01mfrom\u001b[39;00m\u001b[38;5;250m \u001b[39m\u001b[38;5;21;01msympy\u001b[39;00m\u001b[38;5;21;01m.\u001b[39;00m\u001b[38;5;21;01mphysics\u001b[39;00m\u001b[38;5;21;01m.\u001b[39;00m\u001b[38;5;21;01munits\u001b[39;00m\u001b[38;5;250m \u001b[39m\u001b[38;5;28;01mimport\u001b[39;00m Quantity\n\u001b[1;32m    721\u001b[0m \u001b[38;5;28;01mif\u001b[39;00m expr\u001b[38;5;241m.\u001b[39mhas(Quantity):\n\u001b[1;32m    722\u001b[0m     \u001b[38;5;28;01mfrom\u001b[39;00m\u001b[38;5;250m \u001b[39m\u001b[38;5;21;01msympy\u001b[39;00m\u001b[38;5;21;01m.\u001b[39;00m\u001b[38;5;21;01mphysics\u001b[39;00m\u001b[38;5;21;01m.\u001b[39;00m\u001b[38;5;21;01munits\u001b[39;00m\u001b[38;5;21;01m.\u001b[39;00m\u001b[38;5;21;01mutil\u001b[39;00m\u001b[38;5;250m \u001b[39m\u001b[38;5;28;01mimport\u001b[39;00m quantity_simplify\n",
      "File \u001b[0;32m~/dev/f8/arith25-stochastic-rounding/.venv/lib/python3.10/site-packages/sympy/physics/__init__.py:5\u001b[0m\n\u001b[1;32m      1\u001b[0m \u001b[38;5;124;03m\"\"\"\u001b[39;00m\n\u001b[1;32m      2\u001b[0m \u001b[38;5;124;03mA module that helps solving problems in physics.\u001b[39;00m\n\u001b[1;32m      3\u001b[0m \u001b[38;5;124;03m\"\"\"\u001b[39;00m\n\u001b[0;32m----> 5\u001b[0m \u001b[38;5;28;01mfrom\u001b[39;00m\u001b[38;5;250m \u001b[39m\u001b[38;5;21;01m.\u001b[39;00m\u001b[38;5;250m \u001b[39m\u001b[38;5;28;01mimport\u001b[39;00m units\n\u001b[1;32m      6\u001b[0m \u001b[38;5;28;01mfrom\u001b[39;00m\u001b[38;5;250m \u001b[39m\u001b[38;5;21;01m.\u001b[39;00m\u001b[38;5;21;01mmatrices\u001b[39;00m\u001b[38;5;250m \u001b[39m\u001b[38;5;28;01mimport\u001b[39;00m mgamma, msigma, minkowski_tensor, mdft\n\u001b[1;32m      8\u001b[0m __all__ \u001b[38;5;241m=\u001b[39m [\n\u001b[1;32m      9\u001b[0m     \u001b[38;5;124m'\u001b[39m\u001b[38;5;124munits\u001b[39m\u001b[38;5;124m'\u001b[39m,\n\u001b[1;32m     10\u001b[0m \n\u001b[1;32m     11\u001b[0m     \u001b[38;5;124m'\u001b[39m\u001b[38;5;124mmgamma\u001b[39m\u001b[38;5;124m'\u001b[39m, \u001b[38;5;124m'\u001b[39m\u001b[38;5;124mmsigma\u001b[39m\u001b[38;5;124m'\u001b[39m, \u001b[38;5;124m'\u001b[39m\u001b[38;5;124mminkowski_tensor\u001b[39m\u001b[38;5;124m'\u001b[39m, \u001b[38;5;124m'\u001b[39m\u001b[38;5;124mmdft\u001b[39m\u001b[38;5;124m'\u001b[39m,\n\u001b[1;32m     12\u001b[0m ]\n",
      "File \u001b[0;32m~/dev/f8/arith25-stochastic-rounding/.venv/lib/python3.10/site-packages/sympy/physics/units/__init__.py:215\u001b[0m\n\u001b[1;32m     52\u001b[0m \u001b[38;5;28;01mfrom\u001b[39;00m\u001b[38;5;250m \u001b[39m\u001b[38;5;21;01m.\u001b[39;00m\u001b[38;5;21;01mprefixes\u001b[39;00m\u001b[38;5;250m \u001b[39m\u001b[38;5;28;01mimport\u001b[39;00m (\n\u001b[1;32m     53\u001b[0m     \u001b[38;5;66;03m# 10-power based:\u001b[39;00m\n\u001b[1;32m     54\u001b[0m     yotta,\n\u001b[0;32m   (...)\u001b[0m\n\u001b[1;32m     80\u001b[0m     exbi,\n\u001b[1;32m     81\u001b[0m )\n\u001b[1;32m     83\u001b[0m \u001b[38;5;28;01mfrom\u001b[39;00m\u001b[38;5;250m \u001b[39m\u001b[38;5;21;01m.\u001b[39;00m\u001b[38;5;21;01mdefinitions\u001b[39;00m\u001b[38;5;250m \u001b[39m\u001b[38;5;28;01mimport\u001b[39;00m (\n\u001b[1;32m     84\u001b[0m     percent, percents,\n\u001b[1;32m     85\u001b[0m     permille,\n\u001b[0;32m   (...)\u001b[0m\n\u001b[1;32m    212\u001b[0m     exbibyte, exbibytes,\n\u001b[1;32m    213\u001b[0m )\n\u001b[0;32m--> 215\u001b[0m \u001b[38;5;28;01mfrom\u001b[39;00m\u001b[38;5;250m \u001b[39m\u001b[38;5;21;01m.\u001b[39;00m\u001b[38;5;21;01msystems\u001b[39;00m\u001b[38;5;250m \u001b[39m\u001b[38;5;28;01mimport\u001b[39;00m (\n\u001b[1;32m    216\u001b[0m     mks, mksa, si\n\u001b[1;32m    217\u001b[0m )\n\u001b[1;32m    220\u001b[0m \u001b[38;5;28;01mdef\u001b[39;00m\u001b[38;5;250m \u001b[39m\u001b[38;5;21mfind_unit\u001b[39m(quantity, unit_system\u001b[38;5;241m=\u001b[39m\u001b[38;5;124m\"\u001b[39m\u001b[38;5;124mSI\u001b[39m\u001b[38;5;124m\"\u001b[39m):\n\u001b[1;32m    221\u001b[0m \u001b[38;5;250m    \u001b[39m\u001b[38;5;124;03m\"\"\"\u001b[39;00m\n\u001b[1;32m    222\u001b[0m \u001b[38;5;124;03m    Return a list of matching units or dimension names.\u001b[39;00m\n\u001b[1;32m    223\u001b[0m \n\u001b[0;32m   (...)\u001b[0m\n\u001b[1;32m    244\u001b[0m \u001b[38;5;124;03m    ['L', 'l', 'cL', 'cl', 'dL', 'dl', 'mL', 'ml', 'liter']\u001b[39;00m\n\u001b[1;32m    245\u001b[0m \u001b[38;5;124;03m    \"\"\"\u001b[39;00m\n",
      "File \u001b[0;32m~/dev/f8/arith25-stochastic-rounding/.venv/lib/python3.10/site-packages/sympy/physics/units/systems/__init__.py:4\u001b[0m\n\u001b[1;32m      2\u001b[0m \u001b[38;5;28;01mfrom\u001b[39;00m\u001b[38;5;250m \u001b[39m\u001b[38;5;21;01msympy\u001b[39;00m\u001b[38;5;21;01m.\u001b[39;00m\u001b[38;5;21;01mphysics\u001b[39;00m\u001b[38;5;21;01m.\u001b[39;00m\u001b[38;5;21;01munits\u001b[39;00m\u001b[38;5;21;01m.\u001b[39;00m\u001b[38;5;21;01msystems\u001b[39;00m\u001b[38;5;21;01m.\u001b[39;00m\u001b[38;5;21;01mmksa\u001b[39;00m\u001b[38;5;250m \u001b[39m\u001b[38;5;28;01mimport\u001b[39;00m MKSA\n\u001b[1;32m      3\u001b[0m \u001b[38;5;28;01mfrom\u001b[39;00m\u001b[38;5;250m \u001b[39m\u001b[38;5;21;01msympy\u001b[39;00m\u001b[38;5;21;01m.\u001b[39;00m\u001b[38;5;21;01mphysics\u001b[39;00m\u001b[38;5;21;01m.\u001b[39;00m\u001b[38;5;21;01munits\u001b[39;00m\u001b[38;5;21;01m.\u001b[39;00m\u001b[38;5;21;01msystems\u001b[39;00m\u001b[38;5;21;01m.\u001b[39;00m\u001b[38;5;21;01mnatural\u001b[39;00m\u001b[38;5;250m \u001b[39m\u001b[38;5;28;01mimport\u001b[39;00m natural\n\u001b[0;32m----> 4\u001b[0m \u001b[38;5;28;01mfrom\u001b[39;00m\u001b[38;5;250m \u001b[39m\u001b[38;5;21;01msympy\u001b[39;00m\u001b[38;5;21;01m.\u001b[39;00m\u001b[38;5;21;01mphysics\u001b[39;00m\u001b[38;5;21;01m.\u001b[39;00m\u001b[38;5;21;01munits\u001b[39;00m\u001b[38;5;21;01m.\u001b[39;00m\u001b[38;5;21;01msystems\u001b[39;00m\u001b[38;5;21;01m.\u001b[39;00m\u001b[38;5;21;01msi\u001b[39;00m\u001b[38;5;250m \u001b[39m\u001b[38;5;28;01mimport\u001b[39;00m SI\n\u001b[1;32m      6\u001b[0m __all__ \u001b[38;5;241m=\u001b[39m [\u001b[38;5;124m'\u001b[39m\u001b[38;5;124mMKS\u001b[39m\u001b[38;5;124m'\u001b[39m, \u001b[38;5;124m'\u001b[39m\u001b[38;5;124mMKSA\u001b[39m\u001b[38;5;124m'\u001b[39m, \u001b[38;5;124m'\u001b[39m\u001b[38;5;124mnatural\u001b[39m\u001b[38;5;124m'\u001b[39m, \u001b[38;5;124m'\u001b[39m\u001b[38;5;124mSI\u001b[39m\u001b[38;5;124m'\u001b[39m]\n",
      "File \u001b[0;32m~/dev/f8/arith25-stochastic-rounding/.venv/lib/python3.10/site-packages/sympy/physics/units/systems/si.py:57\u001b[0m\n\u001b[1;32m     55\u001b[0m all_units: \u001b[38;5;28mlist\u001b[39m[Quantity] \u001b[38;5;241m=\u001b[39m []\n\u001b[1;32m     56\u001b[0m \u001b[38;5;28;01mfor\u001b[39;00m u \u001b[38;5;129;01min\u001b[39;00m units:\n\u001b[0;32m---> 57\u001b[0m     all_units\u001b[38;5;241m.\u001b[39mextend(\u001b[43mprefix_unit\u001b[49m\u001b[43m(\u001b[49m\u001b[43mu\u001b[49m\u001b[43m,\u001b[49m\u001b[43m \u001b[49m\u001b[43mPREFIXES\u001b[49m\u001b[43m)\u001b[49m)\n\u001b[1;32m     59\u001b[0m all_units\u001b[38;5;241m.\u001b[39mextend(units)\n\u001b[1;32m     60\u001b[0m all_units\u001b[38;5;241m.\u001b[39mextend([mol, cd, K, lux])\n",
      "File \u001b[0;32m~/dev/f8/arith25-stochastic-rounding/.venv/lib/python3.10/site-packages/sympy/physics/units/prefixes.py:145\u001b[0m, in \u001b[0;36mprefix_unit\u001b[0;34m(unit, prefixes)\u001b[0m\n\u001b[1;32m    141\u001b[0m prefixed_units \u001b[38;5;241m=\u001b[39m []\n\u001b[1;32m    143\u001b[0m \u001b[38;5;28;01mfor\u001b[39;00m prefix \u001b[38;5;129;01min\u001b[39;00m prefixes\u001b[38;5;241m.\u001b[39mvalues():\n\u001b[1;32m    144\u001b[0m     quantity \u001b[38;5;241m=\u001b[39m Quantity(\n\u001b[0;32m--> 145\u001b[0m             \u001b[38;5;124;43m\"\u001b[39;49m\u001b[38;5;132;43;01m%s\u001b[39;49;00m\u001b[38;5;132;43;01m%s\u001b[39;49;00m\u001b[38;5;124;43m\"\u001b[39;49m\u001b[43m \u001b[49m\u001b[38;5;241;43m%\u001b[39;49m\u001b[43m \u001b[49m\u001b[43m(\u001b[49m\u001b[43mprefix\u001b[49m\u001b[38;5;241;43m.\u001b[39;49m\u001b[43mname\u001b[49m\u001b[43m,\u001b[49m\u001b[43m \u001b[49m\u001b[43munit\u001b[49m\u001b[38;5;241;43m.\u001b[39;49m\u001b[43mname\u001b[49m\u001b[43m)\u001b[49m,\n\u001b[1;32m    146\u001b[0m             abbrev\u001b[38;5;241m=\u001b[39m(\u001b[38;5;124m\"\u001b[39m\u001b[38;5;132;01m%s\u001b[39;00m\u001b[38;5;132;01m%s\u001b[39;00m\u001b[38;5;124m\"\u001b[39m \u001b[38;5;241m%\u001b[39m (prefix\u001b[38;5;241m.\u001b[39mabbrev, unit\u001b[38;5;241m.\u001b[39mabbrev)),\n\u001b[1;32m    147\u001b[0m             is_prefixed\u001b[38;5;241m=\u001b[39m\u001b[38;5;28;01mTrue\u001b[39;00m,\n\u001b[1;32m    148\u001b[0m        )\n\u001b[1;32m    149\u001b[0m     UnitSystem\u001b[38;5;241m.\u001b[39m_quantity_dimensional_equivalence_map_global[quantity] \u001b[38;5;241m=\u001b[39m unit\n\u001b[1;32m    150\u001b[0m     UnitSystem\u001b[38;5;241m.\u001b[39m_quantity_scale_factors_global[quantity] \u001b[38;5;241m=\u001b[39m (prefix\u001b[38;5;241m.\u001b[39mscale_factor, unit)\n",
      "File \u001b[0;32m~/dev/f8/arith25-stochastic-rounding/.venv/lib/python3.10/site-packages/sympy/core/_print_helpers.py:29\u001b[0m, in \u001b[0;36mPrintable.__str__\u001b[0;34m(self)\u001b[0m\n\u001b[1;32m     27\u001b[0m \u001b[38;5;28;01mdef\u001b[39;00m\u001b[38;5;250m \u001b[39m\u001b[38;5;21m__str__\u001b[39m(\u001b[38;5;28mself\u001b[39m):\n\u001b[1;32m     28\u001b[0m     \u001b[38;5;28;01mfrom\u001b[39;00m\u001b[38;5;250m \u001b[39m\u001b[38;5;21;01msympy\u001b[39;00m\u001b[38;5;21;01m.\u001b[39;00m\u001b[38;5;21;01mprinting\u001b[39;00m\u001b[38;5;21;01m.\u001b[39;00m\u001b[38;5;21;01mstr\u001b[39;00m\u001b[38;5;250m \u001b[39m\u001b[38;5;28;01mimport\u001b[39;00m sstr\n\u001b[0;32m---> 29\u001b[0m     \u001b[38;5;28;01mreturn\u001b[39;00m \u001b[43msstr\u001b[49m\u001b[43m(\u001b[49m\u001b[38;5;28;43mself\u001b[39;49m\u001b[43m,\u001b[49m\u001b[43m \u001b[49m\u001b[43morder\u001b[49m\u001b[38;5;241;43m=\u001b[39;49m\u001b[38;5;28;43;01mNone\u001b[39;49;00m\u001b[43m)\u001b[49m\n",
      "File \u001b[0;32m~/dev/f8/arith25-stochastic-rounding/.venv/lib/python3.10/site-packages/sympy/printing/printer.py:372\u001b[0m, in \u001b[0;36m_PrintFunction.__call__\u001b[0;34m(self, *args, **kwargs)\u001b[0m\n\u001b[1;32m    371\u001b[0m \u001b[38;5;28;01mdef\u001b[39;00m\u001b[38;5;250m \u001b[39m\u001b[38;5;21m__call__\u001b[39m(\u001b[38;5;28mself\u001b[39m, \u001b[38;5;241m*\u001b[39margs, \u001b[38;5;241m*\u001b[39m\u001b[38;5;241m*\u001b[39mkwargs):\n\u001b[0;32m--> 372\u001b[0m     \u001b[38;5;28;01mreturn\u001b[39;00m \u001b[38;5;28;43mself\u001b[39;49m\u001b[38;5;241;43m.\u001b[39;49m\u001b[43m__wrapped__\u001b[49m\u001b[43m(\u001b[49m\u001b[38;5;241;43m*\u001b[39;49m\u001b[43margs\u001b[49m\u001b[43m,\u001b[49m\u001b[43m \u001b[49m\u001b[38;5;241;43m*\u001b[39;49m\u001b[38;5;241;43m*\u001b[39;49m\u001b[43mkwargs\u001b[49m\u001b[43m)\u001b[49m\n",
      "File \u001b[0;32m~/dev/f8/arith25-stochastic-rounding/.venv/lib/python3.10/site-packages/sympy/printing/str.py:995\u001b[0m, in \u001b[0;36msstr\u001b[0;34m(expr, **settings)\u001b[0m\n\u001b[1;32m    979\u001b[0m \u001b[38;5;250m\u001b[39m\u001b[38;5;124;03m\"\"\"Returns the expression as a string.\u001b[39;00m\n\u001b[1;32m    980\u001b[0m \n\u001b[1;32m    981\u001b[0m \u001b[38;5;124;03mFor large expressions where speed is a concern, use the setting\u001b[39;00m\n\u001b[0;32m   (...)\u001b[0m\n\u001b[1;32m    991\u001b[0m \u001b[38;5;124;03m'Eq(a + b, 0)'\u001b[39;00m\n\u001b[1;32m    992\u001b[0m \u001b[38;5;124;03m\"\"\"\u001b[39;00m\n\u001b[1;32m    994\u001b[0m p \u001b[38;5;241m=\u001b[39m StrPrinter(settings)\n\u001b[0;32m--> 995\u001b[0m s \u001b[38;5;241m=\u001b[39m \u001b[43mp\u001b[49m\u001b[38;5;241;43m.\u001b[39;49m\u001b[43mdoprint\u001b[49m\u001b[43m(\u001b[49m\u001b[43mexpr\u001b[49m\u001b[43m)\u001b[49m\n\u001b[1;32m    997\u001b[0m \u001b[38;5;28;01mreturn\u001b[39;00m s\n",
      "File \u001b[0;32m~/dev/f8/arith25-stochastic-rounding/.venv/lib/python3.10/site-packages/sympy/printing/printer.py:292\u001b[0m, in \u001b[0;36mPrinter.doprint\u001b[0;34m(self, expr)\u001b[0m\n\u001b[1;32m    290\u001b[0m \u001b[38;5;28;01mdef\u001b[39;00m\u001b[38;5;250m \u001b[39m\u001b[38;5;21mdoprint\u001b[39m(\u001b[38;5;28mself\u001b[39m, expr):\n\u001b[1;32m    291\u001b[0m \u001b[38;5;250m    \u001b[39m\u001b[38;5;124;03m\"\"\"Returns printer's representation for expr (as a string)\"\"\"\u001b[39;00m\n\u001b[0;32m--> 292\u001b[0m     \u001b[38;5;28;01mreturn\u001b[39;00m \u001b[38;5;28mself\u001b[39m\u001b[38;5;241m.\u001b[39m_str(\u001b[38;5;28;43mself\u001b[39;49m\u001b[38;5;241;43m.\u001b[39;49m\u001b[43m_print\u001b[49m\u001b[43m(\u001b[49m\u001b[43mexpr\u001b[49m\u001b[43m)\u001b[49m)\n",
      "File \u001b[0;32m~/dev/f8/arith25-stochastic-rounding/.venv/lib/python3.10/site-packages/sympy/printing/printer.py:307\u001b[0m, in \u001b[0;36mPrinter._print\u001b[0;34m(self, expr, **kwargs)\u001b[0m\n\u001b[1;32m    302\u001b[0m \u001b[38;5;28mself\u001b[39m\u001b[38;5;241m.\u001b[39m_print_level \u001b[38;5;241m+\u001b[39m\u001b[38;5;241m=\u001b[39m \u001b[38;5;241m1\u001b[39m\n\u001b[1;32m    303\u001b[0m \u001b[38;5;28;01mtry\u001b[39;00m:\n\u001b[1;32m    304\u001b[0m     \u001b[38;5;66;03m# If the printer defines a name for a printing method\u001b[39;00m\n\u001b[1;32m    305\u001b[0m     \u001b[38;5;66;03m# (Printer.printmethod) and the object knows for itself how it\u001b[39;00m\n\u001b[1;32m    306\u001b[0m     \u001b[38;5;66;03m# should be printed, use that method.\u001b[39;00m\n\u001b[0;32m--> 307\u001b[0m     \u001b[38;5;28;01mif\u001b[39;00m \u001b[38;5;28mself\u001b[39m\u001b[38;5;241m.\u001b[39mprintmethod \u001b[38;5;129;01mand\u001b[39;00m \u001b[38;5;28;43mhasattr\u001b[39;49m\u001b[43m(\u001b[49m\u001b[43mexpr\u001b[49m\u001b[43m,\u001b[49m\u001b[43m \u001b[49m\u001b[38;5;28;43mself\u001b[39;49m\u001b[38;5;241;43m.\u001b[39;49m\u001b[43mprintmethod\u001b[49m\u001b[43m)\u001b[49m:\n\u001b[1;32m    308\u001b[0m         \u001b[38;5;28;01mif\u001b[39;00m \u001b[38;5;129;01mnot\u001b[39;00m (\u001b[38;5;28misinstance\u001b[39m(expr, \u001b[38;5;28mtype\u001b[39m) \u001b[38;5;129;01mand\u001b[39;00m \u001b[38;5;28missubclass\u001b[39m(expr, Basic)):\n\u001b[1;32m    309\u001b[0m             \u001b[38;5;28;01mreturn\u001b[39;00m \u001b[38;5;28mgetattr\u001b[39m(expr, \u001b[38;5;28mself\u001b[39m\u001b[38;5;241m.\u001b[39mprintmethod)(\u001b[38;5;28mself\u001b[39m, \u001b[38;5;241m*\u001b[39m\u001b[38;5;241m*\u001b[39mkwargs)\n",
      "\u001b[0;31mKeyboardInterrupt\u001b[0m: "
     ]
    }
   ],
   "source": [
    "# Define variables\n",
    "x, n = symbols(\"x n\", real=True, positive=True)\n",
    "N = symbols(\"N\", integer=True, positive=True)\n",
    "\n",
    "# Bias for SRFF\n",
    "bias_n = Integral(1, (x, 1 - n * 2 ** (-N), 1))\n",
    "bias = 2**-N * summation(bias_n, (n, 0, 2**N - 1)) - half\n",
    "display(eq(\"Bias\", bias))\n",
    "display(eq(\"...\", simplify(simplify(expand(bias.doit())))))\n",
    "\n",
    "# Assert expected = computed\n",
    "expected_bias = -(2 ** (-(N + 1)))\n",
    "assert expand(bias.doit() - expected_bias) == 0"
   ]
  },
  {
   "cell_type": "markdown",
   "metadata": {},
   "source": [
    "So, the bias is nonzero - values are generally rounded towards zero - and the bias reduces to zero as $N \\rightarrow \\infty$."
   ]
  },
  {
   "cell_type": "markdown",
   "metadata": {},
   "source": [
    "## Bias computation: SRF\n",
    "\n",
    "We can perform the same sort of calculation for the first-order correction, dubbed SRF in the paper:"
   ]
  },
  {
   "cell_type": "code",
   "execution_count": null,
   "metadata": {},
   "outputs": [
    {
     "data": {
      "text/latex": [
       "$\\displaystyle Bias = - \\frac{1}{2} + 2^{- N} \\sum_{n=0}^{2^{N} - 1} \\int\\limits_{1 - 2^{- N} \\left(n + \\frac{1}{2}\\right)}^{1} 1\\, dx$"
      ],
      "text/plain": [
       "Eq(Bias, -1/2 + Sum(Integral(1, (x, 1 - (n + 1/2)/2**N, 1)), (n, 0, 2**N - 1))/2**N)"
      ]
     },
     "metadata": {},
     "output_type": "display_data"
    },
    {
     "data": {
      "text/latex": [
       "$\\displaystyle ... = 0$"
      ],
      "text/plain": [
       "Eq(..., 0)"
      ]
     },
     "metadata": {},
     "output_type": "display_data"
    }
   ],
   "source": [
    "# Bias for SRF\n",
    "bias_n = Integral(1, (x, 1 - (n + half) * 2 ** (-N), 1))\n",
    "bias = 2**-N * summation(bias_n, (n, 0, 2**N - 1)) - half\n",
    "display(eq(\"Bias\", bias))\n",
    "display(eq(\"...\", simplify(expand(bias.doit()))))\n",
    "\n",
    "# Assert that bias is zero as expected\n",
    "assert expand(bias.doit()) == 0"
   ]
  },
  {
   "cell_type": "markdown",
   "metadata": {},
   "source": [
    "\n",
    "## Case 2: Finite-precision inputs and limited-precision random variables\n",
    "\n",
    "The above derivations model the inputs `v` as being infinite precision, when in practice they may come from a more limited range (e.g. bfloat16 has P=8).\n",
    "\n",
    "The following derivation show that SRF is biased in that case."
   ]
  },
  {
   "cell_type": "markdown",
   "metadata": {},
   "source": [
    "## Bias of SRFF, finite-precision inputs\n",
    "\n",
    "Following the paper, this calculation is in two parts.  We first compute the bias at a single x value:\n",
    "$$\n",
    "\\begin{darray}{rcl}\n",
    "bias_{SRFF}(x) &=& 2^{-N}\\sum_{n=0}^{2^N-1} \\mathbb 1[R_{SRFF}(x,n)] - x\\\\\n",
    "&=&2^{-N}\\sum_{n=0}^{2^N-1} \\mathbb 1[x + n \\times 2^{-N} \\ge 1] - x\n",
    "\\end{darray}\n",
    "$$"
   ]
  },
  {
   "cell_type": "code",
   "execution_count": null,
   "metadata": {},
   "outputs": [
    {
     "data": {
      "text/latex": [
       "$\\displaystyle bias_{SRFF}(x) = - x + 2^{- N} \\sum_{n=0}^{2^{N} - 1} \\theta\\left(x - 1 + 2^{- N} n, 1\\right)$"
      ],
      "text/plain": [
       "Eq(bias_{SRFF}(x), -x + Sum(Heaviside(x - 1 + n/2**N, 1), (n, 0, 2**N - 1))/2**N)"
      ]
     },
     "metadata": {},
     "output_type": "display_data"
    }
   ],
   "source": [
    "# Define variables\n",
    "x, n = symbols(\"x n\", real=True, positive=True)\n",
    "i, N, D = symbols(\"i N D\", integer=True, positive=True)\n",
    "\n",
    "bias_x = 2**-N * Sum(Heaviside(x + 2**-N * n - 1, 1), (n, 0, 2**N-1)) - x\n",
    "\n",
    "# Simplify\n",
    "display(eq(\"bias_{SRFF}(x)\", bias_x))\n"
   ]
  },
  {
   "cell_type": "markdown",
   "metadata": {},
   "source": [
    "Then the expectation over the $2^D$ input values is:\n",
    "$$\n",
    "bias_{SRFF,D} = 2^{-D} \\sum_{i=0}^{2^D-1} bias_{SRFF}(x := 2^{-D}i)\n",
    "$$"
   ]
  },
  {
   "cell_type": "code",
   "execution_count": null,
   "metadata": {},
   "outputs": [
    {
     "data": {
      "text/latex": [
       "$\\displaystyle 2^{- D} \\sum_{i=0}^{2^{D} - 1} \\left(2^{- N} \\sum_{n=0}^{2^{N} - 1} \\theta\\left(-1 + 2^{- N} n + 2^{- D} i, 1\\right) - 2^{- D} i\\right)$"
      ],
      "text/plain": [
       "Sum(Sum(Heaviside(-1 + n/2**N + i/2**D, 1), (n, 0, 2**N - 1))/2**N - i/2**D, (i, 0, 2**D - 1))/2**D"
      ]
     },
     "metadata": {},
     "output_type": "display_data"
    },
    {
     "data": {
      "text/latex": [
       "$\\displaystyle 2^{- D - 1} + 2^{- D - N} \\sum_{\\substack{0 \\leq n \\leq 2^{N} - 1\\\\0 \\leq i \\leq 2^{D} - 1}} \\theta\\left(-1 + 2^{- N} n + 2^{- D} i, 1\\right) - \\frac{1}{2}$"
      ],
      "text/plain": [
       "2**(-D - 1) + 2**(-D - N)*Sum(Heaviside(-1 + n/2**N + i/2**D, 1), (n, 0, 2**N - 1), (i, 0, 2**D - 1)) - 1/2"
      ]
     },
     "metadata": {},
     "output_type": "display_data"
    }
   ],
   "source": [
    "i_sum_lo = 0\n",
    "i_sum_hi = 2**D - 1\n",
    "bias = 2**-D * Sum(bias_x.subs(x, 2**-D * i), (i, i_sum_lo, i_sum_hi)) \n",
    "display(bias)\n",
    "bias1 = simplify(simplify(expand(bias)))\n",
    "display(bias1)"
   ]
  },
  {
   "cell_type": "code",
   "execution_count": null,
   "metadata": {},
   "outputs": [
    {
     "data": {
      "text/latex": [
       "$\\displaystyle expanded = 2^{- D - 1} + 2^{- D - N} \\sum_{\\substack{0 \\leq n \\leq 2^{N} - 1\\\\0 \\leq i \\leq 2^{D} - 1}} \\theta\\left(-1 + 2^{- N} n + 2^{- D} i, 1\\right) - \\frac{1}{2}$"
      ],
      "text/plain": [
       "Eq(expanded, 2**(-D - 1) + 2**(-D - N)*Sum(Heaviside(-1 + n/2**N + i/2**D, 1), (n, 0, 2**N - 1), (i, 0, 2**D - 1)) - 1/2)"
      ]
     },
     "metadata": {},
     "output_type": "display_data"
    },
    {
     "data": {
      "text/latex": [
       "$\\displaystyle 2^{- D - 1} + 2^{- D - N} \\sum_{\\substack{0 \\leq i \\leq 2^{D} - 1\\\\0 \\leq n \\leq 2^{N} - 1}} \\theta\\left(-1 + 2^{- N} n + 2^{- D} i, 1\\right) - \\frac{1}{2}$"
      ],
      "text/plain": [
       "2**(-D - 1) + 2**(-D - N)*Sum(Heaviside(-1 + n/2**N + i/2**D, 1), (i, 0, 2**D - 1), (n, 0, 2**N - 1)) - 1/2"
      ]
     },
     "metadata": {},
     "output_type": "display_data"
    },
    {
     "data": {
      "text/latex": [
       "$\\displaystyle replace[H[v] \\rightarrow H[2^{D} v]] = 2^{- D - 1} + 2^{- D - N} \\sum_{\\substack{0 \\leq i \\leq 2^{D} - 1\\\\0 \\leq n \\leq 2^{N} - 1}} \\theta\\left(2^{D} \\left(-1 + 2^{- N} n + 2^{- D} i\\right), 1\\right) - \\frac{1}{2}$"
      ],
      "text/plain": [
       "Eq(replace[H[v] \\rightarrow H[2^{D} v]], 2**(-D - 1) + 2**(-D - N)*Sum(Heaviside(2**D*(-1 + n/2**N + i/2**D), 1), (i, 0, 2**D - 1), (n, 0, 2**N - 1)) - 1/2)"
      ]
     },
     "metadata": {},
     "output_type": "display_data"
    },
    {
     "data": {
      "text/latex": [
       "$\\displaystyle simplified = 2^{- D - 1} + 2^{- D - N} \\sum_{\\substack{0 \\leq i \\leq 2^{D} - 1\\\\0 \\leq n \\leq 2^{N} - 1}} \\theta\\left(- 2^{D} + 2^{D - N} n + i, 1\\right) - \\frac{1}{2}$"
      ],
      "text/plain": [
       "Eq(simplified, 2**(-D - 1) + 2**(-D - N)*Sum(Heaviside(-2**D + 2**(D - N)*n + i, 1), (i, 0, 2**D - 1), (n, 0, 2**N - 1)) - 1/2)"
      ]
     },
     "metadata": {},
     "output_type": "display_data"
    }
   ],
   "source": [
    "import re\n",
    "\n",
    "# def rules(x):\n",
    "#   subs(Heaviside(x, 1), Piecewise((1, x >= 0), (0, True)))\n",
    "#   subs(Heaviside(x, 1), Heaviside(x * 2**D))\n",
    "\n",
    "def swapsum(x):\n",
    "  # rewrite\n",
    "  if x.func == Sum:\n",
    "    args = tuple(map(swapsum, x.args))\n",
    "    return x.func(args[0], args[2], args[1], *args[3:])\n",
    "\n",
    "  # copy\n",
    "  if x.args:\n",
    "    return x.func(*map(swapsum, x.args))\n",
    "  else:\n",
    "    return x\n",
    "\n",
    "bias1 = simplify(simplify(expand(bias)))\n",
    "\n",
    "display(eq('expanded', bias1))\n",
    "\n",
    "bias1 = swapsum(bias1)\n",
    "display(bias1)\n",
    "\n",
    "# H[x] = H[kx] for positive k - use this to simplify inside sum\n",
    "bias1 = bias1.replace(Heaviside(_1, _2), Heaviside(_1 * 2**D, _2))\n",
    "display(eq(r'replace[H[v] \\rightarrow H[2^{D} v]]', bias1))\n",
    "\n",
    "bias1 = simplify(simplify(expand(bias1)))\n",
    "display(eq(r'simplified', bias1))\n",
    "\n"
   ]
  },
  {
   "cell_type": "code",
   "execution_count": null,
   "metadata": {},
   "outputs": [
    {
     "data": {
      "text/latex": [
       "$\\displaystyle replace sum(H[]) = 2^{- D - 1} + 2^{- D - N} \\sum_{\\substack{\\max\\left(0, 2^{D} - 2^{D - N} n\\right) \\leq i \\leq 2^{D} - 1\\\\0 \\leq n \\leq 2^{N} - 1}} 1 - \\frac{1}{2}$"
      ],
      "text/plain": [
       "Eq(replace sum(H[]), 2**(-D - 1) + 2**(-D - N)*Sum(1, (i, Max(0, 2**D - 2**(D - N)*n), 2**D - 1), (n, 0, 2**N - 1)) - 1/2)"
      ]
     },
     "metadata": {},
     "output_type": "display_data"
    },
    {
     "data": {
      "text/latex": [
       "$\\displaystyle replace sum(H[]) = 2^{- D - 1} + 2^{- D - N} \\sum_{n=0}^{2^{N} - 1} \\left(2^{D} - \\max\\left(0, 2^{D} - 2^{D - N} n\\right)\\right) - \\frac{1}{2}$"
      ],
      "text/plain": [
       "Eq(replace sum(H[]), 2**(-D - 1) + 2**(-D - N)*Sum(2**D - Max(0, 2**D - 2**(D - N)*n), (n, 0, 2**N - 1)) - 1/2)"
      ]
     },
     "metadata": {},
     "output_type": "display_data"
    }
   ],
   "source": [
    "\n",
    "# Now replace sum_i=lo to hi H[i + k]\n",
    "#             sum_i=lo to hi  {i >= -k}\n",
    "#        with sum_i=max(lo,-k) to hi of 1\n",
    "# Can't use sympy replace...\n",
    "def match(x):\n",
    "  # Sum(\n",
    "  #     Heaviside(Add(i, _1_), 1),\n",
    "  #     Tuple(i, lo, hi),\n",
    "  #     ...\n",
    "  # )\n",
    "  ok = (x.func == Sum and\n",
    "          x.args[0].match(Heaviside(i + _1, 1)) and\n",
    "          x.args[1].match((i, _2, _3)))\n",
    "  return ok\n",
    "\n",
    "def replace(x):\n",
    "  # Sum(\n",
    "  #     1,\n",
    "  #     Tuple(i, lo, hi),\n",
    "  #     ...\n",
    "  # )\n",
    "  #\n",
    "  rep = {\n",
    "    **x.args[0].match(Heaviside(i + _1, 1)),\n",
    "    **x.args[1].match((i, _2, _3))\n",
    "  }\n",
    "  return Sum(one, (i, sympy.Max(rep[_2], -rep[_1]), rep[_3]), *x.args[2:])\n",
    "\n",
    "bias1 = bias1.replace(match, replace)\n",
    "display(eq('replace sum(H[])', bias1))\n",
    "\n",
    "bias1= simplify(bias1)\n",
    "display(eq('replace sum(H[])', bias1))\n"
   ]
  },
  {
   "cell_type": "code",
   "execution_count": null,
   "metadata": {},
   "outputs": [
    {
     "data": {
      "text/latex": [
       "$\\displaystyle replace: max(a,b) \\rightarrow max(ka, kb)/k = 2^{- D - 1} - \\frac{1}{2} + 2^{- N} \\sum_{n=0}^{2^{N} - 1} \\left(1 - 2^{- D} \\max\\left(0, 2^{D} \\left(1 - 2^{- N} n\\right)\\right)\\right)$"
      ],
      "text/plain": [
       "Eq(replace: max(a,b) \\rightarrow max(ka, kb)/k, 2**(-D - 1) - 1/2 + Sum(1 - Max(0, 2**D*(1 - n/2**N))/2**D, (n, 0, 2**N - 1))/2**N)"
      ]
     },
     "metadata": {},
     "output_type": "display_data"
    }
   ],
   "source": [
    "# replace max(a,b) \\rightarrow max(ka, kb)/k\n",
    "bias1 = bias1.replace(sympy.Max(_1, _2), sympy.Max(_1 * 2**-D, _2* 2**-D)* 2**D)\n",
    "bias1 = simplify(bias1)\n",
    "display(eq(r'replace: max(a,b) \\rightarrow max(ka, kb)/k', bias1))"
   ]
  },
  {
   "cell_type": "code",
   "execution_count": null,
   "metadata": {},
   "outputs": [
    {
     "data": {
      "text/latex": [
       "$\\displaystyle bias_{SRFF,D} = - \\frac{2^{- N}}{2} + \\frac{2^{- D}}{2}$"
      ],
      "text/plain": [
       "Eq(bias_SRFF,D, -1/(2*2**N) + 1/(2*2**D))"
      ]
     },
     "metadata": {},
     "output_type": "display_data"
    }
   ],
   "source": [
    "# Now it's clear that (1-2^-N n) is positive, as n < 2^N\n",
    "bias1 = bias1.replace(sympy.Max(0, _1), _1)\n",
    "bias1 = expand(bias1)\n",
    "display(eq(r'bias_SRFF,D', bias1))\n"
   ]
  }
 ],
 "metadata": {
  "kernelspec": {
   "display_name": ".venv",
   "language": "python",
   "name": "python3"
  },
  "language_info": {
   "codemirror_mode": {
    "name": "ipython",
    "version": 3
   },
   "file_extension": ".py",
   "mimetype": "text/x-python",
   "name": "python",
   "nbconvert_exporter": "python",
   "pygments_lexer": "ipython3",
   "version": "3.10.12"
  }
 },
 "nbformat": 4,
 "nbformat_minor": 2
}
